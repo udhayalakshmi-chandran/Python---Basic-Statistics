{
 "cells": [
  {
   "cell_type": "markdown",
   "id": "a88dd128",
   "metadata": {},
   "source": [
    "#                                        BUSINESS PROBLEM-1"
   ]
  },
  {
   "cell_type": "code",
   "execution_count": 1,
   "id": "2b1d7b1c",
   "metadata": {},
   "outputs": [],
   "source": [
    "#Import packages"
   ]
  },
  {
   "cell_type": "code",
   "execution_count": 31,
   "id": "1b57ef8a",
   "metadata": {},
   "outputs": [],
   "source": [
    "import pandas as pd\n",
    "import numpy as np\n",
    "import scipy.stats as stats"
   ]
  },
  {
   "cell_type": "code",
   "execution_count": 3,
   "id": "0eb15a0f",
   "metadata": {},
   "outputs": [],
   "source": [
    "#Import  loans data"
   ]
  },
  {
   "cell_type": "code",
   "execution_count": 4,
   "id": "3845e670",
   "metadata": {},
   "outputs": [],
   "source": [
    "loan_df = pd.read_csv('C://Users//sandisk//Downloads//DataScience using PYTHON//Case Studies//Basic Statistics - Hypothesis Testing//4. Basic Statistics - Hypothesis Testing//LoansData.csv//')"
   ]
  },
  {
   "cell_type": "code",
   "execution_count": 5,
   "id": "fdc50c78",
   "metadata": {},
   "outputs": [
    {
     "data": {
      "text/plain": [
       "Amount.Requested                  float64\n",
       "Amount.Funded.By.Investors        float64\n",
       "Interest.Rate                      object\n",
       "Loan.Length                        object\n",
       "Loan.Purpose                       object\n",
       "Debt.To.Income.Ratio               object\n",
       "State                              object\n",
       "Home.Ownership                     object\n",
       "Monthly.Income                    float64\n",
       "FICO.Range                         object\n",
       "Open.CREDIT.Lines                 float64\n",
       "Revolving.CREDIT.Balance          float64\n",
       "Inquiries.in.the.Last.6.Months    float64\n",
       "Employment.Length                  object\n",
       "dtype: object"
      ]
     },
     "execution_count": 5,
     "metadata": {},
     "output_type": "execute_result"
    }
   ],
   "source": [
    "loan_df.dtypes"
   ]
  },
  {
   "cell_type": "code",
   "execution_count": 6,
   "id": "f34058a3",
   "metadata": {},
   "outputs": [],
   "source": [
    "loan_df['Interest.Rate'] = loan_df['Interest.Rate'].str.rstrip('%').astype('float')"
   ]
  },
  {
   "cell_type": "code",
   "execution_count": 7,
   "id": "5a0dec57",
   "metadata": {},
   "outputs": [
    {
     "data": {
      "text/plain": [
       "0"
      ]
     },
     "execution_count": 7,
     "metadata": {},
     "output_type": "execute_result"
    }
   ],
   "source": [
    "loan_df.duplicated().sum()"
   ]
  },
  {
   "cell_type": "code",
   "execution_count": 8,
   "id": "a2f45f5c",
   "metadata": {},
   "outputs": [
    {
     "data": {
      "text/plain": [
       "Amount.Requested                   1\n",
       "Amount.Funded.By.Investors         1\n",
       "Interest.Rate                      2\n",
       "Loan.Length                        0\n",
       "Loan.Purpose                       0\n",
       "Debt.To.Income.Ratio               1\n",
       "State                              0\n",
       "Home.Ownership                     1\n",
       "Monthly.Income                     1\n",
       "FICO.Range                         2\n",
       "Open.CREDIT.Lines                  3\n",
       "Revolving.CREDIT.Balance           3\n",
       "Inquiries.in.the.Last.6.Months     3\n",
       "Employment.Length                 77\n",
       "dtype: int64"
      ]
     },
     "execution_count": 8,
     "metadata": {},
     "output_type": "execute_result"
    }
   ],
   "source": [
    "loan_df.isnull().sum()"
   ]
  },
  {
   "cell_type": "code",
   "execution_count": 9,
   "id": "f13ad23b",
   "metadata": {},
   "outputs": [],
   "source": [
    "loan_df['Amount.Requested'].fillna(loan_df['Amount.Requested'].mean(), inplace=True)\n",
    "loan_df['Interest.Rate'].fillna(loan_df['Interest.Rate'].mean(), inplace=True)"
   ]
  },
  {
   "cell_type": "markdown",
   "id": "1072514f",
   "metadata": {},
   "source": [
    "##### a. Intrest rate is varied for different loan amounts (Less interest charged for high loan amounts)"
   ]
  },
  {
   "cell_type": "code",
   "execution_count": 10,
   "id": "aa15bb22",
   "metadata": {},
   "outputs": [],
   "source": [
    "#Step 1: Hypothesis testing\n",
    "\n",
    "#Null Hypothesis\n",
    "#Ho: There is no significant difference in interest rates between high and low loan amounts.\n",
    "\n",
    "#Alternate Hypothesis\n",
    "#Ha: There is a significant difference in interest rates "
   ]
  },
  {
   "cell_type": "code",
   "execution_count": 11,
   "id": "e9bf1848",
   "metadata": {},
   "outputs": [],
   "source": [
    "#Step 2: Deciding the type of test\n",
    "\n",
    "#T-Test(Two sample independend)"
   ]
  },
  {
   "cell_type": "code",
   "execution_count": 12,
   "id": "821612ea",
   "metadata": {},
   "outputs": [],
   "source": [
    "#Step 3: Choosing CI\n",
    "\n",
    "#CI 95%(0.95)\n",
    "#Error region or alpha value - 5% (0.05)"
   ]
  },
  {
   "cell_type": "code",
   "execution_count": 13,
   "id": "c0b22ad9",
   "metadata": {},
   "outputs": [],
   "source": [
    "#Step 4: Performing the test"
   ]
  },
  {
   "cell_type": "code",
   "execution_count": 14,
   "id": "92a39e13",
   "metadata": {},
   "outputs": [],
   "source": [
    "mean_loan_amount = loan_df['Amount.Requested'].mean()\n",
    "\n",
    "low_loan_amounts = loan_df[loan_df['Amount.Requested'] <= mean_loan_amount]\n",
    "high_loan_amounts = loan_df[loan_df['Amount.Requested'] > mean_loan_amount]"
   ]
  },
  {
   "cell_type": "code",
   "execution_count": 15,
   "id": "a357dc08",
   "metadata": {},
   "outputs": [
    {
     "data": {
      "text/plain": [
       "TtestResult(statistic=-14.679754658310323, pvalue=7.350432695296437e-47, df=2498.0)"
      ]
     },
     "execution_count": 15,
     "metadata": {},
     "output_type": "execute_result"
    }
   ],
   "source": [
    "stats.ttest_ind(low_loan_amounts['Interest.Rate'], high_loan_amounts['Interest.Rate'])"
   ]
  },
  {
   "cell_type": "code",
   "execution_count": 16,
   "id": "9c5b943a",
   "metadata": {},
   "outputs": [],
   "source": [
    "#Step 5: Conclusion\n",
    "\n",
    "# The value of p is 0.00000000000000000000000000000000000000000000735043270%\n",
    "\n",
    "#The value of p is very much less than the error region 5%\n",
    "#We fail to reject the Alternate Hypothesis Ha\n",
    "#There is a significant difference in interest rates "
   ]
  },
  {
   "cell_type": "markdown",
   "id": "75ffd07c",
   "metadata": {},
   "source": [
    "##### b. Loan length is directly effecting intrest rate."
   ]
  },
  {
   "cell_type": "code",
   "execution_count": 17,
   "id": "350106a8",
   "metadata": {},
   "outputs": [
    {
     "data": {
      "text/plain": [
       "array(['36 months', '60 months'], dtype=object)"
      ]
     },
     "execution_count": 17,
     "metadata": {},
     "output_type": "execute_result"
    }
   ],
   "source": [
    "loan_df['Loan.Length'].unique()"
   ]
  },
  {
   "cell_type": "code",
   "execution_count": 18,
   "id": "0fdc5f88",
   "metadata": {},
   "outputs": [],
   "source": [
    "#Step 1: Hypothesis Testing\n",
    "\n",
    "#Null hypothesis (Ho): Loan length does not affect the interest rate.\n",
    "#Alternative hypothesis (Ha): Loan length significantly affects the interest rate."
   ]
  },
  {
   "cell_type": "code",
   "execution_count": 19,
   "id": "686c42ef",
   "metadata": {},
   "outputs": [],
   "source": [
    "#Step 2: Deciding the type of test\n",
    "\n",
    "#T-Test(Two sample independend)"
   ]
  },
  {
   "cell_type": "code",
   "execution_count": 20,
   "id": "241310de",
   "metadata": {},
   "outputs": [],
   "source": [
    "#Step 3: Choosing CI\n",
    "\n",
    "#CI 95%(0.95)\n",
    "#Error region or alpha value - 5% (0.05)"
   ]
  },
  {
   "cell_type": "code",
   "execution_count": 21,
   "id": "996faa4c",
   "metadata": {},
   "outputs": [],
   "source": [
    "#Step 4: Performing the test"
   ]
  },
  {
   "cell_type": "code",
   "execution_count": 22,
   "id": "c1f98925",
   "metadata": {},
   "outputs": [],
   "source": [
    "length_36 = loan_df.loc[loan_df['Loan.Length'] == '36 months','Interest.Rate']\n",
    "length_60 = loan_df.loc[loan_df['Loan.Length'] == '60 months','Interest.Rate']"
   ]
  },
  {
   "cell_type": "code",
   "execution_count": 23,
   "id": "5ca9197d",
   "metadata": {},
   "outputs": [
    {
     "data": {
      "text/plain": [
       "TtestResult(statistic=-23.41049023613487, pvalue=9.549596064332559e-110, df=2498.0)"
      ]
     },
     "execution_count": 23,
     "metadata": {},
     "output_type": "execute_result"
    }
   ],
   "source": [
    "stats.ttest_ind(a = length_36, b = length_60)"
   ]
  },
  {
   "cell_type": "code",
   "execution_count": 24,
   "id": "d10d6d44",
   "metadata": {},
   "outputs": [],
   "source": [
    "#Step 5: Conclusion\n",
    "\n",
    "#The value of p is very much less than error region\n",
    "#We fail to reject alternate Hypothesis\n",
    "#Loan length significantly affects the interest rate."
   ]
  },
  {
   "cell_type": "markdown",
   "id": "29922847",
   "metadata": {},
   "source": [
    "##### c. Inrest rate varies for different purpose of loans"
   ]
  },
  {
   "cell_type": "code",
   "execution_count": 25,
   "id": "df43df81",
   "metadata": {},
   "outputs": [
    {
     "data": {
      "text/plain": [
       "array(['debt_consolidation', 'credit_card', 'other', 'moving', 'car',\n",
       "       'vacation', 'home_improvement', 'house', 'major_purchase',\n",
       "       'educational', 'medical', 'wedding', 'small_business',\n",
       "       'renewable_energy'], dtype=object)"
      ]
     },
     "execution_count": 25,
     "metadata": {},
     "output_type": "execute_result"
    }
   ],
   "source": [
    "loan_df['Loan.Purpose'].unique()"
   ]
  },
  {
   "cell_type": "code",
   "execution_count": 26,
   "id": "c4c7430b",
   "metadata": {},
   "outputs": [],
   "source": [
    "#Step 1: Hypothesis testing\n",
    "\n",
    "#Null Hypothesis(Ho): Interest rates for all the purposes are same\n",
    "#Alternate Hypothesis(Ha): Interest rate vaies for different purposes"
   ]
  },
  {
   "cell_type": "code",
   "execution_count": 27,
   "id": "5ec0175b",
   "metadata": {},
   "outputs": [],
   "source": [
    "#Step 2 : Annova / F-test\n",
    "#More than two groups are involved in the study"
   ]
  },
  {
   "cell_type": "code",
   "execution_count": 28,
   "id": "645cf238",
   "metadata": {},
   "outputs": [],
   "source": [
    "#Step 3 : CI- 95% - 0.95\n",
    "#Error: 5% - 0.05 - alpha value"
   ]
  },
  {
   "cell_type": "code",
   "execution_count": 29,
   "id": "7c631a6d",
   "metadata": {},
   "outputs": [],
   "source": [
    "#Step 4 : Performing the tests"
   ]
  },
  {
   "cell_type": "code",
   "execution_count": 30,
   "id": "a4ea882b",
   "metadata": {},
   "outputs": [],
   "source": [
    "s1 = loan_df.loc[loan_df['Loan.Purpose']=='debt_consolidation','Interest.Rate']\n",
    "s2 = loan_df.loc[loan_df['Loan.Purpose']=='credit_card','Interest.Rate']\n",
    "s3 = loan_df.loc[loan_df['Loan.Purpose']=='other','Interest.Rate']\n",
    "s4 = loan_df.loc[loan_df['Loan.Purpose']=='moving','Interest.Rate']\n",
    "s5 = loan_df.loc[loan_df['Loan.Purpose']=='car','Interest.Rate']\n",
    "s6 = loan_df.loc[loan_df['Loan.Purpose']=='vacation','Interest.Rate']\n",
    "s7 = loan_df.loc[loan_df['Loan.Purpose']=='home_improvement','Interest.Rate']\n",
    "s8 = loan_df.loc[loan_df['Loan.Purpose']=='house','Interest.Rate']\n",
    "s9 = loan_df.loc[loan_df['Loan.Purpose']=='major_purchase','Interest.Rate']\n",
    "s10 = loan_df.loc[loan_df['Loan.Purpose']=='medical','Interest.Rate']\n",
    "s11 = loan_df.loc[loan_df['Loan.Purpose']=='wedding','Interest.Rate']\n",
    "s12 = loan_df.loc[loan_df['Loan.Purpose']=='small_business','Interest.Rate']\n",
    "s13 = loan_df.loc[loan_df['Loan.Purpose']=='renewable_energy','Interest.Rate']\n",
    "s14 = loan_df.loc[loan_df['Loan.Purpose']=='educational','Interest.Rate']"
   ]
  },
  {
   "cell_type": "code",
   "execution_count": 31,
   "id": "145e3346",
   "metadata": {},
   "outputs": [
    {
     "data": {
      "text/plain": [
       "F_onewayResult(statistic=7.4826387840974355, pvalue=1.1599665535989115e-14)"
      ]
     },
     "execution_count": 31,
     "metadata": {},
     "output_type": "execute_result"
    }
   ],
   "source": [
    "stats.f_oneway(s1,s2,s3,s4,s5,s6,s7,s8,s9,s10,s11,s12,s13,s14)"
   ]
  },
  {
   "cell_type": "code",
   "execution_count": 32,
   "id": "5dd364d6",
   "metadata": {},
   "outputs": [],
   "source": [
    "#Step 5: Conclusion\n",
    "\n",
    "#The value of p 0.0000000000000115996 is very much less than error region\n",
    "#We fail to reject the Alternate Hypothesis\n",
    "#Interest rate vaies for different purposes"
   ]
  },
  {
   "cell_type": "markdown",
   "id": "8d4b418c",
   "metadata": {},
   "source": [
    "##### d. There is relationship between FICO scores and Home Ownership. It means that, People with owning home will have high FICO scores."
   ]
  },
  {
   "cell_type": "code",
   "execution_count": 33,
   "id": "037653b3",
   "metadata": {},
   "outputs": [],
   "source": [
    "#Step 1 : Hypothesis testing\n",
    "\n",
    "#Null hypothesis (Ho): There is no relationship between FICO scores and home ownership status.\n",
    "#Alternative hypothesis (Ha): There is a significant relationship between FICO scores and home ownership status."
   ]
  },
  {
   "cell_type": "code",
   "execution_count": 34,
   "id": "3c1685ac",
   "metadata": {},
   "outputs": [],
   "source": [
    "#Step 2: Test Statistics\n",
    "\n",
    "#Non_Parametric tests - Chisquare(Test of independence)"
   ]
  },
  {
   "cell_type": "code",
   "execution_count": 35,
   "id": "d9b04c9f",
   "metadata": {},
   "outputs": [],
   "source": [
    "#Step 3: CI - 95% (0.95)\n",
    "#Error region - 5% (0.05) - alpha value"
   ]
  },
  {
   "cell_type": "code",
   "execution_count": 36,
   "id": "f4385371",
   "metadata": {},
   "outputs": [],
   "source": [
    "#Step 4: Performing test statistic"
   ]
  },
  {
   "cell_type": "code",
   "execution_count": 37,
   "id": "da234c1e",
   "metadata": {},
   "outputs": [],
   "source": [
    "stats.chi2_contingency?"
   ]
  },
  {
   "cell_type": "code",
   "execution_count": 38,
   "id": "cbacf6f9",
   "metadata": {},
   "outputs": [
    {
     "data": {
      "text/html": [
       "<div>\n",
       "<style scoped>\n",
       "    .dataframe tbody tr th:only-of-type {\n",
       "        vertical-align: middle;\n",
       "    }\n",
       "\n",
       "    .dataframe tbody tr th {\n",
       "        vertical-align: top;\n",
       "    }\n",
       "\n",
       "    .dataframe thead th {\n",
       "        text-align: right;\n",
       "    }\n",
       "</style>\n",
       "<table border=\"1\" class=\"dataframe\">\n",
       "  <thead>\n",
       "    <tr style=\"text-align: right;\">\n",
       "      <th></th>\n",
       "      <th>FICO.Range</th>\n",
       "      <th>Home.Ownership</th>\n",
       "    </tr>\n",
       "  </thead>\n",
       "  <tbody>\n",
       "    <tr>\n",
       "      <th>0</th>\n",
       "      <td>735-739</td>\n",
       "      <td>MORTGAGE</td>\n",
       "    </tr>\n",
       "    <tr>\n",
       "      <th>1</th>\n",
       "      <td>715-719</td>\n",
       "      <td>MORTGAGE</td>\n",
       "    </tr>\n",
       "    <tr>\n",
       "      <th>2</th>\n",
       "      <td>690-694</td>\n",
       "      <td>MORTGAGE</td>\n",
       "    </tr>\n",
       "    <tr>\n",
       "      <th>3</th>\n",
       "      <td>695-699</td>\n",
       "      <td>MORTGAGE</td>\n",
       "    </tr>\n",
       "    <tr>\n",
       "      <th>4</th>\n",
       "      <td>695-699</td>\n",
       "      <td>RENT</td>\n",
       "    </tr>\n",
       "    <tr>\n",
       "      <th>...</th>\n",
       "      <td>...</td>\n",
       "      <td>...</td>\n",
       "    </tr>\n",
       "    <tr>\n",
       "      <th>2495</th>\n",
       "      <td>705-709</td>\n",
       "      <td>MORTGAGE</td>\n",
       "    </tr>\n",
       "    <tr>\n",
       "      <th>2496</th>\n",
       "      <td>740-744</td>\n",
       "      <td>OWN</td>\n",
       "    </tr>\n",
       "    <tr>\n",
       "      <th>2497</th>\n",
       "      <td>680-684</td>\n",
       "      <td>MORTGAGE</td>\n",
       "    </tr>\n",
       "    <tr>\n",
       "      <th>2498</th>\n",
       "      <td>675-679</td>\n",
       "      <td>RENT</td>\n",
       "    </tr>\n",
       "    <tr>\n",
       "      <th>2499</th>\n",
       "      <td>670-674</td>\n",
       "      <td>RENT</td>\n",
       "    </tr>\n",
       "  </tbody>\n",
       "</table>\n",
       "<p>2500 rows × 2 columns</p>\n",
       "</div>"
      ],
      "text/plain": [
       "     FICO.Range Home.Ownership\n",
       "0       735-739       MORTGAGE\n",
       "1       715-719       MORTGAGE\n",
       "2       690-694       MORTGAGE\n",
       "3       695-699       MORTGAGE\n",
       "4       695-699           RENT\n",
       "...         ...            ...\n",
       "2495    705-709       MORTGAGE\n",
       "2496    740-744            OWN\n",
       "2497    680-684       MORTGAGE\n",
       "2498    675-679           RENT\n",
       "2499    670-674           RENT\n",
       "\n",
       "[2500 rows x 2 columns]"
      ]
     },
     "execution_count": 38,
     "metadata": {},
     "output_type": "execute_result"
    }
   ],
   "source": [
    "loan_df[['FICO.Range','Home.Ownership']]"
   ]
  },
  {
   "cell_type": "code",
   "execution_count": 39,
   "id": "559a9c93",
   "metadata": {},
   "outputs": [
    {
     "data": {
      "text/html": [
       "<div>\n",
       "<style scoped>\n",
       "    .dataframe tbody tr th:only-of-type {\n",
       "        vertical-align: middle;\n",
       "    }\n",
       "\n",
       "    .dataframe tbody tr th {\n",
       "        vertical-align: top;\n",
       "    }\n",
       "\n",
       "    .dataframe thead th {\n",
       "        text-align: right;\n",
       "    }\n",
       "</style>\n",
       "<table border=\"1\" class=\"dataframe\">\n",
       "  <thead>\n",
       "    <tr style=\"text-align: right;\">\n",
       "      <th>Home.Ownership</th>\n",
       "      <th>MORTGAGE</th>\n",
       "      <th>NONE</th>\n",
       "      <th>OTHER</th>\n",
       "      <th>OWN</th>\n",
       "      <th>RENT</th>\n",
       "    </tr>\n",
       "    <tr>\n",
       "      <th>FICO.Range</th>\n",
       "      <th></th>\n",
       "      <th></th>\n",
       "      <th></th>\n",
       "      <th></th>\n",
       "      <th></th>\n",
       "    </tr>\n",
       "  </thead>\n",
       "  <tbody>\n",
       "    <tr>\n",
       "      <th>640-644</th>\n",
       "      <td>0</td>\n",
       "      <td>0</td>\n",
       "      <td>0</td>\n",
       "      <td>1</td>\n",
       "      <td>4</td>\n",
       "    </tr>\n",
       "    <tr>\n",
       "      <th>645-649</th>\n",
       "      <td>1</td>\n",
       "      <td>0</td>\n",
       "      <td>0</td>\n",
       "      <td>0</td>\n",
       "      <td>2</td>\n",
       "    </tr>\n",
       "    <tr>\n",
       "      <th>650-654</th>\n",
       "      <td>1</td>\n",
       "      <td>0</td>\n",
       "      <td>0</td>\n",
       "      <td>0</td>\n",
       "      <td>0</td>\n",
       "    </tr>\n",
       "    <tr>\n",
       "      <th>655-659</th>\n",
       "      <td>0</td>\n",
       "      <td>0</td>\n",
       "      <td>1</td>\n",
       "      <td>0</td>\n",
       "      <td>3</td>\n",
       "    </tr>\n",
       "    <tr>\n",
       "      <th>660-664</th>\n",
       "      <td>41</td>\n",
       "      <td>0</td>\n",
       "      <td>0</td>\n",
       "      <td>17</td>\n",
       "      <td>67</td>\n",
       "    </tr>\n",
       "    <tr>\n",
       "      <th>665-669</th>\n",
       "      <td>52</td>\n",
       "      <td>0</td>\n",
       "      <td>0</td>\n",
       "      <td>18</td>\n",
       "      <td>75</td>\n",
       "    </tr>\n",
       "    <tr>\n",
       "      <th>670-674</th>\n",
       "      <td>67</td>\n",
       "      <td>0</td>\n",
       "      <td>1</td>\n",
       "      <td>13</td>\n",
       "      <td>90</td>\n",
       "    </tr>\n",
       "    <tr>\n",
       "      <th>675-679</th>\n",
       "      <td>79</td>\n",
       "      <td>0</td>\n",
       "      <td>1</td>\n",
       "      <td>11</td>\n",
       "      <td>75</td>\n",
       "    </tr>\n",
       "    <tr>\n",
       "      <th>680-684</th>\n",
       "      <td>55</td>\n",
       "      <td>0</td>\n",
       "      <td>2</td>\n",
       "      <td>9</td>\n",
       "      <td>91</td>\n",
       "    </tr>\n",
       "    <tr>\n",
       "      <th>685-689</th>\n",
       "      <td>61</td>\n",
       "      <td>0</td>\n",
       "      <td>0</td>\n",
       "      <td>10</td>\n",
       "      <td>65</td>\n",
       "    </tr>\n",
       "    <tr>\n",
       "      <th>690-694</th>\n",
       "      <td>55</td>\n",
       "      <td>0</td>\n",
       "      <td>0</td>\n",
       "      <td>10</td>\n",
       "      <td>75</td>\n",
       "    </tr>\n",
       "    <tr>\n",
       "      <th>695-699</th>\n",
       "      <td>68</td>\n",
       "      <td>0</td>\n",
       "      <td>0</td>\n",
       "      <td>10</td>\n",
       "      <td>75</td>\n",
       "    </tr>\n",
       "    <tr>\n",
       "      <th>700-704</th>\n",
       "      <td>60</td>\n",
       "      <td>0</td>\n",
       "      <td>0</td>\n",
       "      <td>12</td>\n",
       "      <td>59</td>\n",
       "    </tr>\n",
       "    <tr>\n",
       "      <th>705-709</th>\n",
       "      <td>66</td>\n",
       "      <td>0</td>\n",
       "      <td>0</td>\n",
       "      <td>12</td>\n",
       "      <td>56</td>\n",
       "    </tr>\n",
       "    <tr>\n",
       "      <th>710-714</th>\n",
       "      <td>54</td>\n",
       "      <td>0</td>\n",
       "      <td>0</td>\n",
       "      <td>10</td>\n",
       "      <td>47</td>\n",
       "    </tr>\n",
       "    <tr>\n",
       "      <th>715-719</th>\n",
       "      <td>46</td>\n",
       "      <td>0</td>\n",
       "      <td>0</td>\n",
       "      <td>2</td>\n",
       "      <td>45</td>\n",
       "    </tr>\n",
       "    <tr>\n",
       "      <th>720-724</th>\n",
       "      <td>49</td>\n",
       "      <td>0</td>\n",
       "      <td>0</td>\n",
       "      <td>1</td>\n",
       "      <td>64</td>\n",
       "    </tr>\n",
       "    <tr>\n",
       "      <th>725-729</th>\n",
       "      <td>48</td>\n",
       "      <td>0</td>\n",
       "      <td>0</td>\n",
       "      <td>5</td>\n",
       "      <td>41</td>\n",
       "    </tr>\n",
       "    <tr>\n",
       "      <th>730-734</th>\n",
       "      <td>46</td>\n",
       "      <td>0</td>\n",
       "      <td>0</td>\n",
       "      <td>7</td>\n",
       "      <td>41</td>\n",
       "    </tr>\n",
       "    <tr>\n",
       "      <th>735-739</th>\n",
       "      <td>30</td>\n",
       "      <td>0</td>\n",
       "      <td>0</td>\n",
       "      <td>6</td>\n",
       "      <td>29</td>\n",
       "    </tr>\n",
       "    <tr>\n",
       "      <th>740-744</th>\n",
       "      <td>26</td>\n",
       "      <td>0</td>\n",
       "      <td>0</td>\n",
       "      <td>4</td>\n",
       "      <td>23</td>\n",
       "    </tr>\n",
       "    <tr>\n",
       "      <th>745-749</th>\n",
       "      <td>26</td>\n",
       "      <td>0</td>\n",
       "      <td>0</td>\n",
       "      <td>7</td>\n",
       "      <td>21</td>\n",
       "    </tr>\n",
       "    <tr>\n",
       "      <th>750-754</th>\n",
       "      <td>32</td>\n",
       "      <td>0</td>\n",
       "      <td>0</td>\n",
       "      <td>4</td>\n",
       "      <td>25</td>\n",
       "    </tr>\n",
       "    <tr>\n",
       "      <th>755-759</th>\n",
       "      <td>28</td>\n",
       "      <td>0</td>\n",
       "      <td>0</td>\n",
       "      <td>6</td>\n",
       "      <td>12</td>\n",
       "    </tr>\n",
       "    <tr>\n",
       "      <th>760-764</th>\n",
       "      <td>28</td>\n",
       "      <td>0</td>\n",
       "      <td>0</td>\n",
       "      <td>4</td>\n",
       "      <td>14</td>\n",
       "    </tr>\n",
       "    <tr>\n",
       "      <th>765-769</th>\n",
       "      <td>22</td>\n",
       "      <td>0</td>\n",
       "      <td>0</td>\n",
       "      <td>3</td>\n",
       "      <td>11</td>\n",
       "    </tr>\n",
       "    <tr>\n",
       "      <th>770-774</th>\n",
       "      <td>12</td>\n",
       "      <td>0</td>\n",
       "      <td>0</td>\n",
       "      <td>1</td>\n",
       "      <td>4</td>\n",
       "    </tr>\n",
       "    <tr>\n",
       "      <th>775-779</th>\n",
       "      <td>13</td>\n",
       "      <td>0</td>\n",
       "      <td>0</td>\n",
       "      <td>3</td>\n",
       "      <td>6</td>\n",
       "    </tr>\n",
       "    <tr>\n",
       "      <th>780-784</th>\n",
       "      <td>21</td>\n",
       "      <td>0</td>\n",
       "      <td>0</td>\n",
       "      <td>3</td>\n",
       "      <td>4</td>\n",
       "    </tr>\n",
       "    <tr>\n",
       "      <th>785-789</th>\n",
       "      <td>12</td>\n",
       "      <td>0</td>\n",
       "      <td>0</td>\n",
       "      <td>2</td>\n",
       "      <td>5</td>\n",
       "    </tr>\n",
       "    <tr>\n",
       "      <th>790-794</th>\n",
       "      <td>15</td>\n",
       "      <td>0</td>\n",
       "      <td>0</td>\n",
       "      <td>1</td>\n",
       "      <td>4</td>\n",
       "    </tr>\n",
       "    <tr>\n",
       "      <th>795-799</th>\n",
       "      <td>7</td>\n",
       "      <td>0</td>\n",
       "      <td>0</td>\n",
       "      <td>1</td>\n",
       "      <td>5</td>\n",
       "    </tr>\n",
       "    <tr>\n",
       "      <th>800-804</th>\n",
       "      <td>7</td>\n",
       "      <td>1</td>\n",
       "      <td>0</td>\n",
       "      <td>3</td>\n",
       "      <td>2</td>\n",
       "    </tr>\n",
       "    <tr>\n",
       "      <th>805-809</th>\n",
       "      <td>6</td>\n",
       "      <td>0</td>\n",
       "      <td>0</td>\n",
       "      <td>2</td>\n",
       "      <td>3</td>\n",
       "    </tr>\n",
       "    <tr>\n",
       "      <th>810-814</th>\n",
       "      <td>5</td>\n",
       "      <td>0</td>\n",
       "      <td>0</td>\n",
       "      <td>1</td>\n",
       "      <td>2</td>\n",
       "    </tr>\n",
       "    <tr>\n",
       "      <th>815-819</th>\n",
       "      <td>6</td>\n",
       "      <td>0</td>\n",
       "      <td>0</td>\n",
       "      <td>0</td>\n",
       "      <td>0</td>\n",
       "    </tr>\n",
       "    <tr>\n",
       "      <th>820-824</th>\n",
       "      <td>0</td>\n",
       "      <td>0</td>\n",
       "      <td>0</td>\n",
       "      <td>1</td>\n",
       "      <td>0</td>\n",
       "    </tr>\n",
       "    <tr>\n",
       "      <th>830-834</th>\n",
       "      <td>1</td>\n",
       "      <td>0</td>\n",
       "      <td>0</td>\n",
       "      <td>0</td>\n",
       "      <td>0</td>\n",
       "    </tr>\n",
       "  </tbody>\n",
       "</table>\n",
       "</div>"
      ],
      "text/plain": [
       "Home.Ownership  MORTGAGE  NONE  OTHER  OWN  RENT\n",
       "FICO.Range                                      \n",
       "640-644                0     0      0    1     4\n",
       "645-649                1     0      0    0     2\n",
       "650-654                1     0      0    0     0\n",
       "655-659                0     0      1    0     3\n",
       "660-664               41     0      0   17    67\n",
       "665-669               52     0      0   18    75\n",
       "670-674               67     0      1   13    90\n",
       "675-679               79     0      1   11    75\n",
       "680-684               55     0      2    9    91\n",
       "685-689               61     0      0   10    65\n",
       "690-694               55     0      0   10    75\n",
       "695-699               68     0      0   10    75\n",
       "700-704               60     0      0   12    59\n",
       "705-709               66     0      0   12    56\n",
       "710-714               54     0      0   10    47\n",
       "715-719               46     0      0    2    45\n",
       "720-724               49     0      0    1    64\n",
       "725-729               48     0      0    5    41\n",
       "730-734               46     0      0    7    41\n",
       "735-739               30     0      0    6    29\n",
       "740-744               26     0      0    4    23\n",
       "745-749               26     0      0    7    21\n",
       "750-754               32     0      0    4    25\n",
       "755-759               28     0      0    6    12\n",
       "760-764               28     0      0    4    14\n",
       "765-769               22     0      0    3    11\n",
       "770-774               12     0      0    1     4\n",
       "775-779               13     0      0    3     6\n",
       "780-784               21     0      0    3     4\n",
       "785-789               12     0      0    2     5\n",
       "790-794               15     0      0    1     4\n",
       "795-799                7     0      0    1     5\n",
       "800-804                7     1      0    3     2\n",
       "805-809                6     0      0    2     3\n",
       "810-814                5     0      0    1     2\n",
       "815-819                6     0      0    0     0\n",
       "820-824                0     0      0    1     0\n",
       "830-834                1     0      0    0     0"
      ]
     },
     "execution_count": 39,
     "metadata": {},
     "output_type": "execute_result"
    }
   ],
   "source": [
    "pd.crosstab(index = loan_df['FICO.Range'], columns = loan_df['Home.Ownership'])"
   ]
  },
  {
   "cell_type": "code",
   "execution_count": 40,
   "id": "97e850a8",
   "metadata": {},
   "outputs": [
    {
     "data": {
      "text/plain": [
       "Chi2ContingencyResult(statistic=473.05246368346025, pvalue=1.2021592010244615e-35, dof=148, expected_freq=array([[2.29475370e+00, 2.00240288e-03, 1.00120144e-02, 4.00480577e-01,\n",
       "        2.29275130e+00],\n",
       "       [1.37685222e+00, 1.20144173e-03, 6.00720865e-03, 2.40288346e-01,\n",
       "        1.37565078e+00],\n",
       "       [4.58950741e-01, 4.00480577e-04, 2.00240288e-03, 8.00961153e-02,\n",
       "        4.58550260e-01],\n",
       "       [1.83580296e+00, 1.60192231e-03, 8.00961153e-03, 3.20384461e-01,\n",
       "        1.83420104e+00],\n",
       "       [5.73688426e+01, 5.00600721e-02, 2.50300360e-01, 1.00120144e+01,\n",
       "        5.73187825e+01],\n",
       "       [6.65478574e+01, 5.80696836e-02, 2.90348418e-01, 1.16139367e+01,\n",
       "        6.64897877e+01],\n",
       "       [7.84805767e+01, 6.84821786e-02, 3.42410893e-01, 1.36964357e+01,\n",
       "        7.84120945e+01],\n",
       "       [7.61858230e+01, 6.64797757e-02, 3.32398879e-01, 1.32959551e+01,\n",
       "        7.61193432e+01],\n",
       "       [7.20552663e+01, 6.28754505e-02, 3.14377253e-01, 1.25750901e+01,\n",
       "        7.19923909e+01],\n",
       "       [6.24173008e+01, 5.44653584e-02, 2.72326792e-01, 1.08930717e+01,\n",
       "        6.23628354e+01],\n",
       "       [6.42531037e+01, 5.60672807e-02, 2.80336404e-01, 1.12134561e+01,\n",
       "        6.41970364e+01],\n",
       "       [7.02194634e+01, 6.12735282e-02, 3.06367641e-01, 1.22547056e+01,\n",
       "        7.01581898e+01],\n",
       "       [6.01225471e+01, 5.24629555e-02, 2.62314778e-01, 1.04925911e+01,\n",
       "        6.00700841e+01],\n",
       "       [6.14993993e+01, 5.36643973e-02, 2.68321986e-01, 1.07328795e+01,\n",
       "        6.14457349e+01],\n",
       "       [5.09435322e+01, 4.44533440e-02, 2.22266720e-01, 8.89066880e+00,\n",
       "        5.08990789e+01],\n",
       "       [4.26824189e+01, 3.72446936e-02, 1.86223468e-01, 7.44893873e+00,\n",
       "        4.26451742e+01],\n",
       "       [5.23203845e+01, 4.56547857e-02, 2.28273929e-01, 9.13095715e+00,\n",
       "        5.22747297e+01],\n",
       "       [4.31413696e+01, 3.76451742e-02, 1.88225871e-01, 7.52903484e+00,\n",
       "        4.31037245e+01],\n",
       "       [4.31413696e+01, 3.76451742e-02, 1.88225871e-01, 7.52903484e+00,\n",
       "        4.31037245e+01],\n",
       "       [2.98317982e+01, 2.60312375e-02, 1.30156187e-01, 5.20624750e+00,\n",
       "        2.98057669e+01],\n",
       "       [2.43243893e+01, 2.12254706e-02, 1.06127353e-01, 4.24509411e+00,\n",
       "        2.43031638e+01],\n",
       "       [2.47833400e+01, 2.16259511e-02, 1.08129756e-01, 4.32519023e+00,\n",
       "        2.47617141e+01],\n",
       "       [2.79959952e+01, 2.44293152e-02, 1.22146576e-01, 4.88586304e+00,\n",
       "        2.79715659e+01],\n",
       "       [2.11117341e+01, 1.84221065e-02, 9.21105326e-02, 3.68442131e+00,\n",
       "        2.10933120e+01],\n",
       "       [2.11117341e+01, 1.84221065e-02, 9.21105326e-02, 3.68442131e+00,\n",
       "        2.10933120e+01],\n",
       "       [1.65222267e+01, 1.44173008e-02, 7.20865038e-02, 2.88346015e+00,\n",
       "        1.65078094e+01],\n",
       "       [7.80216260e+00, 6.80816980e-03, 3.40408490e-02, 1.36163396e+00,\n",
       "        7.79535443e+00],\n",
       "       [1.00969163e+01, 8.81057269e-03, 4.40528634e-02, 1.76211454e+00,\n",
       "        1.00881057e+01],\n",
       "       [1.28506207e+01, 1.12134561e-02, 5.60672807e-02, 2.24269123e+00,\n",
       "        1.28394073e+01],\n",
       "       [8.72006408e+00, 7.60913096e-03, 3.80456548e-02, 1.52182619e+00,\n",
       "        8.71245495e+00],\n",
       "       [9.17901482e+00, 8.00961153e-03, 4.00480577e-02, 1.60192231e+00,\n",
       "        9.17100521e+00],\n",
       "       [5.96635963e+00, 5.20624750e-03, 2.60312375e-02, 1.04124950e+00,\n",
       "        5.96115338e+00],\n",
       "       [5.96635963e+00, 5.20624750e-03, 2.60312375e-02, 1.04124950e+00,\n",
       "        5.96115338e+00],\n",
       "       [5.04845815e+00, 4.40528634e-03, 2.20264317e-02, 8.81057269e-01,\n",
       "        5.04405286e+00],\n",
       "       [3.67160593e+00, 3.20384461e-03, 1.60192231e-02, 6.40768923e-01,\n",
       "        3.66840208e+00],\n",
       "       [2.75370445e+00, 2.40288346e-03, 1.20144173e-02, 4.80576692e-01,\n",
       "        2.75130156e+00],\n",
       "       [4.58950741e-01, 4.00480577e-04, 2.00240288e-03, 8.00961153e-02,\n",
       "        4.58550260e-01],\n",
       "       [4.58950741e-01, 4.00480577e-04, 2.00240288e-03, 8.00961153e-02,\n",
       "        4.58550260e-01]]))"
      ]
     },
     "execution_count": 40,
     "metadata": {},
     "output_type": "execute_result"
    }
   ],
   "source": [
    "stats.chi2_contingency(pd.crosstab(index = loan_df['FICO.Range'], columns = loan_df['Home.Ownership']))"
   ]
  },
  {
   "cell_type": "code",
   "execution_count": 41,
   "id": "d7e12207",
   "metadata": {},
   "outputs": [
    {
     "data": {
      "text/plain": [
       "148"
      ]
     },
     "execution_count": 41,
     "metadata": {},
     "output_type": "execute_result"
    }
   ],
   "source": [
    "(38-1)*(5-1)"
   ]
  },
  {
   "cell_type": "code",
   "execution_count": 42,
   "id": "94024229",
   "metadata": {},
   "outputs": [],
   "source": [
    "#Step 5: Conclusion\n",
    "\n",
    "#The value of dof(degrees of freedom) is 148\n",
    "#array is the expected table value\n",
    "#The p value is very much less than the error region\n",
    "\n",
    "#We fail to reject the Alternate Hypothesis\n",
    "#There is a significant relationship between FICO scores and home ownership status."
   ]
  },
  {
   "cell_type": "markdown",
   "id": "cb6336ff",
   "metadata": {},
   "source": [
    "## BUSINESS PROBLEM 2"
   ]
  },
  {
   "cell_type": "code",
   "execution_count": 43,
   "id": "b719775b",
   "metadata": {},
   "outputs": [],
   "source": [
    "price_quotes = pd.read_csv('C://Users//sandisk//Downloads//DataScience using PYTHON//Case Studies//Basic Statistics - Hypothesis Testing//4. Basic Statistics - Hypothesis Testing//Price_Quotes.csv//')"
   ]
  },
  {
   "cell_type": "code",
   "execution_count": 44,
   "id": "39fbfaf7",
   "metadata": {},
   "outputs": [
    {
     "name": "stdout",
     "output_type": "stream",
     "text": [
      "<class 'pandas.core.frame.DataFrame'>\n",
      "RangeIndex: 12 entries, 0 to 11\n",
      "Data columns (total 3 columns):\n",
      " #   Column        Non-Null Count  Dtype\n",
      "---  ------        --------------  -----\n",
      " 0   Order_Number  12 non-null     int64\n",
      " 1   Barry_Price   12 non-null     int64\n",
      " 2   Mary_Price    12 non-null     int64\n",
      "dtypes: int64(3)\n",
      "memory usage: 420.0 bytes\n"
     ]
    }
   ],
   "source": [
    "price_quotes.info()"
   ]
  },
  {
   "cell_type": "markdown",
   "id": "ffe7e6b9",
   "metadata": {},
   "source": [
    "##### We would like to assess if there is any difference in the average price quotes provided by Mary and Barry."
   ]
  },
  {
   "cell_type": "code",
   "execution_count": 45,
   "id": "a395b701",
   "metadata": {},
   "outputs": [],
   "source": [
    "#Step 1 : Hypothesis Testing\n",
    "\n",
    "#Null hypothesis (Ho): There is no difference in the average price quotes provided by Mary and Barry\n",
    "#Alternative hypothesis (Ha): There is a difference in the average price quotes provided by Mary and Barry"
   ]
  },
  {
   "cell_type": "code",
   "execution_count": 46,
   "id": "f391c886",
   "metadata": {},
   "outputs": [],
   "source": [
    "#Step 2 :Test Statistics\n",
    "\n",
    "#T-Test(Two sample dependend)"
   ]
  },
  {
   "cell_type": "code",
   "execution_count": 47,
   "id": "b8ae2f86",
   "metadata": {},
   "outputs": [],
   "source": [
    "#Step 3 : Choosing CI - 95% (0.95)\n",
    "#Error : 5% (0.05)- alpha value"
   ]
  },
  {
   "cell_type": "code",
   "execution_count": 48,
   "id": "b5f11352",
   "metadata": {},
   "outputs": [],
   "source": [
    "#Step 4: Performing the test statistic"
   ]
  },
  {
   "cell_type": "code",
   "execution_count": 49,
   "id": "7f9d2a8d",
   "metadata": {},
   "outputs": [
    {
     "data": {
      "text/plain": [
       "TtestResult(statistic=-2.5213765108923494, pvalue=0.02840588045242053, df=11)"
      ]
     },
     "execution_count": 49,
     "metadata": {},
     "output_type": "execute_result"
    }
   ],
   "source": [
    "stats.ttest_rel(price_quotes['Mary_Price'], price_quotes['Barry_Price'])"
   ]
  },
  {
   "cell_type": "code",
   "execution_count": 50,
   "id": "840581de",
   "metadata": {},
   "outputs": [],
   "source": [
    "#Step 5: Conclusion\n",
    "\n",
    "#The p value is smaller than  the alpha region\n",
    "#We fail to reject alternate Hypothesis \n",
    "#There is a difference in the average price quotes provided by Mary and Barry"
   ]
  },
  {
   "cell_type": "markdown",
   "id": "d02da270",
   "metadata": {},
   "source": [
    "## BUSINESS PROBLEM 3"
   ]
  },
  {
   "cell_type": "code",
   "execution_count": 51,
   "id": "d8ebbf67",
   "metadata": {},
   "outputs": [],
   "source": [
    "treat_fac = pd.read_csv('C://Users//sandisk//Downloads//DataScience using PYTHON//Case Studies//Basic Statistics - Hypothesis Testing//4. Basic Statistics - Hypothesis Testing//Treatment_Facility.csv//')"
   ]
  },
  {
   "cell_type": "code",
   "execution_count": 52,
   "id": "9980fc8a",
   "metadata": {},
   "outputs": [
    {
     "name": "stdout",
     "output_type": "stream",
     "text": [
      "<class 'pandas.core.frame.DataFrame'>\n",
      "RangeIndex: 20 entries, 0 to 19\n",
      "Data columns (total 5 columns):\n",
      " #   Column             Non-Null Count  Dtype  \n",
      "---  ------             --------------  -----  \n",
      " 0   Month              20 non-null     int64  \n",
      " 1   Reengineer         20 non-null     object \n",
      " 2   Employee_Turnover  20 non-null     float64\n",
      " 3   VAR4               20 non-null     float64\n",
      " 4   VAR5               20 non-null     float64\n",
      "dtypes: float64(3), int64(1), object(1)\n",
      "memory usage: 932.0+ bytes\n"
     ]
    }
   ],
   "source": [
    "treat_fac.info()"
   ]
  },
  {
   "cell_type": "markdown",
   "id": "07e2aa4b",
   "metadata": {},
   "source": [
    "##### Determine what effect, if any, the reengineering effort had on the incidence behavioral problems and staff turnover. i.e To determine if the reengineering effort changed the critical incidence rate. Is there evidence that the critical incidence rate improved?"
   ]
  },
  {
   "cell_type": "code",
   "execution_count": null,
   "id": "e65ddcde",
   "metadata": {},
   "outputs": [],
   "source": [
    "#1.Critical Incidence Rate"
   ]
  },
  {
   "cell_type": "code",
   "execution_count": null,
   "id": "ad6138f9",
   "metadata": {},
   "outputs": [],
   "source": [
    "#Step 1: Hypothesis testing\n",
    "\n",
    "#Null hypothesis (Ho): The reengineering effort had no effect on the critical incidence rate.\n",
    "\n",
    "#Alternative hypothesis (Ha): The reengineering effort had a significant effect on the critical incidence rate."
   ]
  },
  {
   "cell_type": "code",
   "execution_count": null,
   "id": "802448e9",
   "metadata": {},
   "outputs": [],
   "source": [
    "#Step 2: Test statistic\n",
    "\n",
    "#T-Test(Two sample independend)"
   ]
  },
  {
   "cell_type": "code",
   "execution_count": null,
   "id": "7ce5f1c9",
   "metadata": {},
   "outputs": [],
   "source": [
    "#Step 3 :  Choosing CI - 95% (0.95)\n",
    "#Error : 5% (0.05)- alpha value"
   ]
  },
  {
   "cell_type": "code",
   "execution_count": null,
   "id": "f9e31c2d",
   "metadata": {},
   "outputs": [],
   "source": [
    "#Step 4: Performing the test statistic"
   ]
  },
  {
   "cell_type": "code",
   "execution_count": 54,
   "id": "626c3fc1",
   "metadata": {},
   "outputs": [],
   "source": [
    "reeng_prior = treat_fac[treat_fac['Reengineer'] == 'Prior']\n",
    "reeng_post = treat_fac[treat_fac['Reengineer'] == 'Post']"
   ]
  },
  {
   "cell_type": "code",
   "execution_count": 55,
   "id": "9f3c8a12",
   "metadata": {},
   "outputs": [
    {
     "data": {
      "text/plain": [
       "TtestResult(statistic=0.0, pvalue=1.0, df=24.0)"
      ]
     },
     "execution_count": 55,
     "metadata": {},
     "output_type": "execute_result"
    }
   ],
   "source": [
    "stats.ttest_ind(reeng_prior['VAR5'],reeng_prior['VAR5'])"
   ]
  },
  {
   "cell_type": "code",
   "execution_count": null,
   "id": "289fe72b",
   "metadata": {},
   "outputs": [],
   "source": [
    "#Step 5: Conclusion\n",
    "\n",
    "#The p-value is greater than the error region\n",
    "#We fail to reject null hypothesis\n",
    "#The reengineering effort had a significant effect on the critical incidence rate."
   ]
  },
  {
   "cell_type": "code",
   "execution_count": null,
   "id": "fd13744d",
   "metadata": {},
   "outputs": [],
   "source": [
    "#2.Employee Turnover"
   ]
  },
  {
   "cell_type": "code",
   "execution_count": null,
   "id": "d1780f0f",
   "metadata": {},
   "outputs": [],
   "source": [
    "#Step 1: Hypothesis testing\n",
    "\n",
    "#Null hypothesis (Ho): The reengineering effort had no effect on employee turnover rates.\n",
    "#Alternative hypothesis (Ha): The reengineering effort had a significant effect on employee turnover rates."
   ]
  },
  {
   "cell_type": "code",
   "execution_count": null,
   "id": "23475732",
   "metadata": {},
   "outputs": [],
   "source": [
    "#Step 2: Test statistic\n",
    "\n",
    "#T-Test(Two sample independend)"
   ]
  },
  {
   "cell_type": "code",
   "execution_count": null,
   "id": "0875519c",
   "metadata": {},
   "outputs": [],
   "source": [
    "#Step 3 :  Choosing CI - 95% (0.95)\n",
    "#Error : 5% (0.05)- alpha value"
   ]
  },
  {
   "cell_type": "code",
   "execution_count": null,
   "id": "b46992d5",
   "metadata": {},
   "outputs": [],
   "source": [
    "#Step 4: Performing the test statistic"
   ]
  },
  {
   "cell_type": "code",
   "execution_count": 56,
   "id": "980db4a1",
   "metadata": {},
   "outputs": [
    {
     "data": {
      "text/plain": [
       "TtestResult(statistic=-1.770306704753604, pvalue=0.09361109345535304, df=18.0)"
      ]
     },
     "execution_count": 56,
     "metadata": {},
     "output_type": "execute_result"
    }
   ],
   "source": [
    "stats.ttest_ind(reeng_prior['Employee_Turnover'], reeng_post['Employee_Turnover'])"
   ]
  },
  {
   "cell_type": "code",
   "execution_count": null,
   "id": "012dce49",
   "metadata": {},
   "outputs": [],
   "source": [
    "#Step 5: Conclusion\n",
    "\n",
    "#The p-value is greater than the error region\n",
    "#We fail to reject the null hypothesis\n",
    "#The reengineering effort had no effect on employee turnover rates."
   ]
  },
  {
   "cell_type": "code",
   "execution_count": null,
   "id": "a970ac6b",
   "metadata": {},
   "outputs": [],
   "source": [
    "#3.TRFF(temporarily removed from the facility)"
   ]
  },
  {
   "cell_type": "code",
   "execution_count": null,
   "id": "572d6de0",
   "metadata": {},
   "outputs": [],
   "source": [
    "#Step 1: Hypothesis testing\n",
    "\n",
    "#Null hypothesis (H0): The reengineering effort had no effect on TRFF%.\n",
    "#Alternative hypothesis (H1): The reengineering effort had a significant effect on TRFF%."
   ]
  },
  {
   "cell_type": "code",
   "execution_count": null,
   "id": "c002e8d2",
   "metadata": {},
   "outputs": [],
   "source": [
    "#Step 2: Test statistic\n",
    "\n",
    "#T-Test(Two sample independend)"
   ]
  },
  {
   "cell_type": "code",
   "execution_count": null,
   "id": "7fd77199",
   "metadata": {},
   "outputs": [],
   "source": [
    "#Step 3 :  Choosing CI - 95% (0.95)\n",
    "#Error : 5% (0.05)- alpha value"
   ]
  },
  {
   "cell_type": "code",
   "execution_count": null,
   "id": "dc600bcb",
   "metadata": {},
   "outputs": [],
   "source": [
    "#Step 4: Performing the test statistic"
   ]
  },
  {
   "cell_type": "code",
   "execution_count": 57,
   "id": "bb5da79c",
   "metadata": {},
   "outputs": [
    {
     "data": {
      "text/plain": [
       "TtestResult(statistic=2.783398448880451, pvalue=0.012265082138734354, df=18.0)"
      ]
     },
     "execution_count": 57,
     "metadata": {},
     "output_type": "execute_result"
    }
   ],
   "source": [
    "stats.ttest_ind(reeng_prior['VAR4'], reeng_post['VAR4'])"
   ]
  },
  {
   "cell_type": "code",
   "execution_count": null,
   "id": "fbe47470",
   "metadata": {},
   "outputs": [],
   "source": [
    "#Step 5: Conclusion\n",
    "\n",
    "#The p-value is less than the error region\n",
    "#We fail to reject the alternate hypothesis\n",
    "#The reengineering effort had a significant effect on TRFF%."
   ]
  },
  {
   "cell_type": "markdown",
   "id": "dd216b51",
   "metadata": {},
   "source": [
    "## BUSINESS PROBLEM 4"
   ]
  },
  {
   "cell_type": "code",
   "execution_count": 58,
   "id": "e7f134c4",
   "metadata": {},
   "outputs": [],
   "source": [
    "prior_asses = pd.read_csv('C://Users//sandisk//Downloads//DataScience using PYTHON//Case Studies//Basic Statistics - Hypothesis Testing//4. Basic Statistics - Hypothesis Testing//Priority_Assessment.csv//')"
   ]
  },
  {
   "cell_type": "code",
   "execution_count": 59,
   "id": "3692ba73",
   "metadata": {},
   "outputs": [
    {
     "name": "stdout",
     "output_type": "stream",
     "text": [
      "<class 'pandas.core.frame.DataFrame'>\n",
      "RangeIndex: 642 entries, 0 to 641\n",
      "Data columns (total 2 columns):\n",
      " #   Column    Non-Null Count  Dtype  \n",
      "---  ------    --------------  -----  \n",
      " 0   Days      642 non-null    float64\n",
      " 1   Priority  642 non-null    object \n",
      "dtypes: float64(1), object(1)\n",
      "memory usage: 10.2+ KB\n"
     ]
    }
   ],
   "source": [
    "prior_asses.info()"
   ]
  },
  {
   "cell_type": "code",
   "execution_count": 60,
   "id": "fd558f9d",
   "metadata": {},
   "outputs": [
    {
     "data": {
      "text/html": [
       "<div>\n",
       "<style scoped>\n",
       "    .dataframe tbody tr th:only-of-type {\n",
       "        vertical-align: middle;\n",
       "    }\n",
       "\n",
       "    .dataframe tbody tr th {\n",
       "        vertical-align: top;\n",
       "    }\n",
       "\n",
       "    .dataframe thead th {\n",
       "        text-align: right;\n",
       "    }\n",
       "</style>\n",
       "<table border=\"1\" class=\"dataframe\">\n",
       "  <thead>\n",
       "    <tr style=\"text-align: right;\">\n",
       "      <th></th>\n",
       "      <th>Days</th>\n",
       "      <th>Priority</th>\n",
       "    </tr>\n",
       "  </thead>\n",
       "  <tbody>\n",
       "    <tr>\n",
       "      <th>261</th>\n",
       "      <td>0.3</td>\n",
       "      <td>Low</td>\n",
       "    </tr>\n",
       "    <tr>\n",
       "      <th>145</th>\n",
       "      <td>0.3</td>\n",
       "      <td>Medium</td>\n",
       "    </tr>\n",
       "    <tr>\n",
       "      <th>509</th>\n",
       "      <td>0.4</td>\n",
       "      <td>High</td>\n",
       "    </tr>\n",
       "    <tr>\n",
       "      <th>102</th>\n",
       "      <td>0.2</td>\n",
       "      <td>High</td>\n",
       "    </tr>\n",
       "    <tr>\n",
       "      <th>228</th>\n",
       "      <td>0.5</td>\n",
       "      <td>Medium</td>\n",
       "    </tr>\n",
       "  </tbody>\n",
       "</table>\n",
       "</div>"
      ],
      "text/plain": [
       "     Days Priority\n",
       "261   0.3      Low\n",
       "145   0.3   Medium\n",
       "509   0.4     High\n",
       "102   0.2     High\n",
       "228   0.5   Medium"
      ]
     },
     "execution_count": 60,
     "metadata": {},
     "output_type": "execute_result"
    }
   ],
   "source": [
    "prior_asses.sample(5)"
   ]
  },
  {
   "cell_type": "code",
   "execution_count": 61,
   "id": "7f77cf3e",
   "metadata": {},
   "outputs": [
    {
     "data": {
      "text/plain": [
       "array(['High', 'Medium', 'Low'], dtype=object)"
      ]
     },
     "execution_count": 61,
     "metadata": {},
     "output_type": "execute_result"
    }
   ],
   "source": [
    "prior_asses['Priority'].unique()"
   ]
  },
  {
   "cell_type": "markdown",
   "id": "b5d020a8",
   "metadata": {},
   "source": [
    "#### We will focus on the prioritization system. If the system is working, then high priority jobs, on average, should be completed more quickly than medium priority jobs, and medium priority jobs should be completed more quickly than low priority jobs. Use the data provided to determine whether this is, in fact, occurring."
   ]
  },
  {
   "cell_type": "code",
   "execution_count": null,
   "id": "fdae126a",
   "metadata": {},
   "outputs": [],
   "source": [
    "#Step 1: Hypothesis testing\n",
    "\n",
    "#Null hypothesis (H0): \n",
    "#There is no significant difference in the average completion time between high, medium, and low priority jobs.\n",
    "\n",
    "#Alternative hypothesis (H1):\n",
    "#There is a significant difference in the average completion time between high, medium, and low priority jobs.    "
   ]
  },
  {
   "cell_type": "code",
   "execution_count": null,
   "id": "d2dbcaae",
   "metadata": {},
   "outputs": [],
   "source": [
    "#Step 2 : Test statistic\n",
    "\n",
    "#Annova / F-test"
   ]
  },
  {
   "cell_type": "code",
   "execution_count": null,
   "id": "fc0b7eeb",
   "metadata": {},
   "outputs": [],
   "source": [
    "#Step 3 : CI- 95% - 0.95\n",
    "#Error: 5% - 0.05 - alpha value"
   ]
  },
  {
   "cell_type": "code",
   "execution_count": null,
   "id": "cd6301b9",
   "metadata": {},
   "outputs": [],
   "source": [
    "#Step 4 : Performing test statistic"
   ]
  },
  {
   "cell_type": "code",
   "execution_count": 62,
   "id": "a764ee51",
   "metadata": {},
   "outputs": [],
   "source": [
    "s1 = prior_asses.loc[prior_asses['Priority']=='High', 'Days']\n",
    "s2 = prior_asses.loc[prior_asses['Priority']=='Medium', 'Days']\n",
    "s3 = prior_asses.loc[prior_asses['Priority']=='Low', 'Days']"
   ]
  },
  {
   "cell_type": "code",
   "execution_count": 63,
   "id": "e9aa2539",
   "metadata": {},
   "outputs": [
    {
     "data": {
      "text/plain": [
       "F_onewayResult(statistic=1.812311010076072, pvalue=0.16411459461716182)"
      ]
     },
     "execution_count": 63,
     "metadata": {},
     "output_type": "execute_result"
    }
   ],
   "source": [
    "stats.f_oneway(s1,s2,s3)"
   ]
  },
  {
   "cell_type": "code",
   "execution_count": null,
   "id": "6cd111e9",
   "metadata": {},
   "outputs": [],
   "source": [
    "#Step 5: Conclusion\n",
    "\n",
    "#The p-value is greater than the error region\n",
    "#We fail to reject the Null Hypothesis\n",
    "#There is no significant difference in the average completion time between high, medium, and low priority jobs."
   ]
  },
  {
   "cell_type": "markdown",
   "id": "a5357f46",
   "metadata": {},
   "source": [
    "## BUSINESS PROBLEM 5"
   ]
  },
  {
   "cell_type": "code",
   "execution_count": 7,
   "id": "c86584b0",
   "metadata": {},
   "outputs": [],
   "source": [
    "films = pd.read_csv('C://Users//sandisk//Downloads//DataScience using PYTHON//Case Studies//Basic Statistics - Hypothesis Testing//4. Basic Statistics - Hypothesis Testing//Films.csv//')"
   ]
  },
  {
   "cell_type": "code",
   "execution_count": 8,
   "id": "fcaeef61",
   "metadata": {},
   "outputs": [
    {
     "data": {
      "text/plain": [
       "_rowstate_          int64\n",
       "Movie              object\n",
       "Gender             object\n",
       "Marital_Status     object\n",
       "Sinage            float64\n",
       "Parking           float64\n",
       "Clean             float64\n",
       "Overall           float64\n",
       "Age               float64\n",
       "Income            float64\n",
       "Hear_About         object\n",
       "dtype: object"
      ]
     },
     "execution_count": 8,
     "metadata": {},
     "output_type": "execute_result"
    }
   ],
   "source": [
    "films.dtypes"
   ]
  },
  {
   "cell_type": "code",
   "execution_count": 68,
   "id": "b52f93ee",
   "metadata": {},
   "outputs": [
    {
     "data": {
      "text/plain": [
       "_rowstate_         0\n",
       "Movie              0\n",
       "Gender             0\n",
       "Marital_Status     2\n",
       "Sinage             2\n",
       "Parking            2\n",
       "Clean              3\n",
       "Overall            2\n",
       "Age                2\n",
       "Income            16\n",
       "Hear_About         7\n",
       "dtype: int64"
      ]
     },
     "execution_count": 68,
     "metadata": {},
     "output_type": "execute_result"
    }
   ],
   "source": [
    "films.isnull().sum()"
   ]
  },
  {
   "cell_type": "code",
   "execution_count": 77,
   "id": "9167f179",
   "metadata": {},
   "outputs": [
    {
     "data": {
      "text/plain": [
       "46"
      ]
     },
     "execution_count": 77,
     "metadata": {},
     "output_type": "execute_result"
    }
   ],
   "source": [
    "films.duplicated().sum()"
   ]
  },
  {
   "cell_type": "markdown",
   "id": "75b8463c",
   "metadata": {},
   "source": [
    "##### What is the overall level of customer satisfaction?"
   ]
  },
  {
   "cell_type": "code",
   "execution_count": 16,
   "id": "88286451",
   "metadata": {},
   "outputs": [],
   "source": [
    "satisfaction_columns = ['Sinage', 'Parking', 'Clean', 'Overall']\n",
    "for col in satisfaction_columns:\n",
    "    films[col] = films[col].astype('category')"
   ]
  },
  {
   "cell_type": "code",
   "execution_count": 18,
   "id": "0ed399c2",
   "metadata": {},
   "outputs": [
    {
     "data": {
      "text/html": [
       "<div>\n",
       "<style scoped>\n",
       "    .dataframe tbody tr th:only-of-type {\n",
       "        vertical-align: middle;\n",
       "    }\n",
       "\n",
       "    .dataframe tbody tr th {\n",
       "        vertical-align: top;\n",
       "    }\n",
       "\n",
       "    .dataframe thead th {\n",
       "        text-align: right;\n",
       "    }\n",
       "</style>\n",
       "<table border=\"1\" class=\"dataframe\">\n",
       "  <thead>\n",
       "    <tr style=\"text-align: right;\">\n",
       "      <th></th>\n",
       "      <th>Sinage</th>\n",
       "      <th>Parking</th>\n",
       "      <th>Clean</th>\n",
       "      <th>Overall</th>\n",
       "    </tr>\n",
       "  </thead>\n",
       "  <tbody>\n",
       "    <tr>\n",
       "      <th>count</th>\n",
       "      <td>328.0</td>\n",
       "      <td>328.0</td>\n",
       "      <td>327.0</td>\n",
       "      <td>328.0</td>\n",
       "    </tr>\n",
       "    <tr>\n",
       "      <th>unique</th>\n",
       "      <td>5.0</td>\n",
       "      <td>5.0</td>\n",
       "      <td>5.0</td>\n",
       "      <td>5.0</td>\n",
       "    </tr>\n",
       "    <tr>\n",
       "      <th>top</th>\n",
       "      <td>2.0</td>\n",
       "      <td>2.0</td>\n",
       "      <td>2.0</td>\n",
       "      <td>2.0</td>\n",
       "    </tr>\n",
       "    <tr>\n",
       "      <th>freq</th>\n",
       "      <td>156.0</td>\n",
       "      <td>153.0</td>\n",
       "      <td>152.0</td>\n",
       "      <td>160.0</td>\n",
       "    </tr>\n",
       "  </tbody>\n",
       "</table>\n",
       "</div>"
      ],
      "text/plain": [
       "        Sinage  Parking  Clean  Overall\n",
       "count    328.0    328.0  327.0    328.0\n",
       "unique     5.0      5.0    5.0      5.0\n",
       "top        2.0      2.0    2.0      2.0\n",
       "freq     156.0    153.0  152.0    160.0"
      ]
     },
     "execution_count": 18,
     "metadata": {},
     "output_type": "execute_result"
    }
   ],
   "source": [
    "descriptive_stats = films[satisfaction_columns].describe()\n",
    "descriptive_stats"
   ]
  },
  {
   "cell_type": "code",
   "execution_count": 19,
   "id": "21bd5342",
   "metadata": {},
   "outputs": [
    {
     "data": {
      "text/plain": [
       "Sinage     2.0\n",
       "Parking    2.0\n",
       "Clean      2.0\n",
       "Overall    2.0\n",
       "Name: 0, dtype: category\n",
       "Categories (5, float64): [1.0, 2.0, 3.0, 4.0, 5.0]"
      ]
     },
     "execution_count": 19,
     "metadata": {},
     "output_type": "execute_result"
    }
   ],
   "source": [
    "modes = films[satisfaction_columns].mode().iloc[0]\n",
    "modes"
   ]
  },
  {
   "cell_type": "markdown",
   "id": "8be6160b",
   "metadata": {},
   "source": [
    "##### What factors are linked to satisfaction?"
   ]
  },
  {
   "cell_type": "code",
   "execution_count": 26,
   "id": "1b758267",
   "metadata": {},
   "outputs": [
    {
     "data": {
      "text/plain": [
       "Index(['_rowstate_', 'Movie', 'Gender', 'Marital_Status', 'Sinage', 'Parking',\n",
       "       'Clean', 'Overall', 'Age', 'Income', 'Hear_About'],\n",
       "      dtype='object')"
      ]
     },
     "execution_count": 26,
     "metadata": {},
     "output_type": "execute_result"
    }
   ],
   "source": [
    "films.columns"
   ]
  },
  {
   "cell_type": "code",
   "execution_count": null,
   "id": "b19cc0b1",
   "metadata": {},
   "outputs": [],
   "source": [
    "#Step 1: Hypothesis testing:\n",
    "\n",
    "#Null Hypothesis:\n",
    "#Ho: There is a significant association between satisfaction columns and demographic columns\n",
    "\n",
    "#Alternate Hypothesis:\n",
    "#Ha: There is no significant association between satisfaction columns and demographic columns"
   ]
  },
  {
   "cell_type": "code",
   "execution_count": null,
   "id": "4095da5b",
   "metadata": {},
   "outputs": [],
   "source": [
    "#Step 2: Test Statistics\n",
    "\n",
    "#Non_Parametric tests - Chisquare(Test of independence)"
   ]
  },
  {
   "cell_type": "code",
   "execution_count": null,
   "id": "b8d2a223",
   "metadata": {},
   "outputs": [],
   "source": [
    "#Step 3 : CI- 95% - 0.95\n",
    "#Error: 5% - 0.05 - alpha value"
   ]
  },
  {
   "cell_type": "code",
   "execution_count": null,
   "id": "f96e0f5d",
   "metadata": {},
   "outputs": [],
   "source": [
    "#Step 4: Performing the test statistic"
   ]
  },
  {
   "cell_type": "code",
   "execution_count": 28,
   "id": "0765bcb8",
   "metadata": {},
   "outputs": [],
   "source": [
    "satisfaction_columns = ['Sinage', 'Parking', 'Clean', 'Overall']\n",
    "\n",
    "demographic_columns = ['Gender', 'Marital_Status', 'Age', 'Income']\n",
    "\n",
    "for satisfaction in satisfaction_columns:\n",
    "    for demographic in demographic_columns:\n",
    "        \n",
    "        contingency_table = pd.crosstab(data[demographic], data[satisfaction])\n"
   ]
  },
  {
   "cell_type": "code",
   "execution_count": 32,
   "id": "983658c9",
   "metadata": {},
   "outputs": [
    {
     "data": {
      "text/plain": [
       "Chi2ContingencyResult(statistic=5.689397280419405, pvalue=0.6819780790955854, dof=8, expected_freq=array([[64.86900958, 68.92332268,  5.4057508 ,  0.45047923,  1.3514377 ],\n",
       "       [37.72523962, 40.08306709,  3.14376997,  0.26198083,  0.78594249],\n",
       "       [41.4057508 , 43.99361022,  3.45047923,  0.28753994,  0.86261981]]))"
      ]
     },
     "execution_count": 32,
     "metadata": {},
     "output_type": "execute_result"
    }
   ],
   "source": [
    "stats.chi2_contingency(contingency_table)"
   ]
  },
  {
   "cell_type": "code",
   "execution_count": null,
   "id": "2a7b8554",
   "metadata": {},
   "outputs": [],
   "source": [
    "#Step 5: Conclusion\n",
    "\n",
    "#The p-value is greater than the error region\n",
    "#We fail to reject the null hypothesis\n",
    "# There is a significant association between satisfaction columns and demographic columns"
   ]
  }
 ],
 "metadata": {
  "kernelspec": {
   "display_name": "Python 3 (ipykernel)",
   "language": "python",
   "name": "python3"
  },
  "language_info": {
   "codemirror_mode": {
    "name": "ipython",
    "version": 3
   },
   "file_extension": ".py",
   "mimetype": "text/x-python",
   "name": "python",
   "nbconvert_exporter": "python",
   "pygments_lexer": "ipython3",
   "version": "3.11.5"
  }
 },
 "nbformat": 4,
 "nbformat_minor": 5
}
